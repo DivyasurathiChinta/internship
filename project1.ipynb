{
  "nbformat": 4,
  "nbformat_minor": 0,
  "metadata": {
    "colab": {
      "provenance": [],
      "authorship_tag": "ABX9TyM9wRjMixyAq6rFrY9VHJ3f",
      "include_colab_link": true
    },
    "kernelspec": {
      "name": "python3",
      "display_name": "Python 3"
    },
    "language_info": {
      "name": "python"
    }
  },
  "cells": [
    {
      "cell_type": "markdown",
      "metadata": {
        "id": "view-in-github",
        "colab_type": "text"
      },
      "source": [
        "<a href=\"https://colab.research.google.com/github/DivyasurathiChinta/internship/blob/main/project1.ipynb\" target=\"_parent\"><img src=\"https://colab.research.google.com/assets/colab-badge.svg\" alt=\"Open In Colab\"/></a>"
      ]
    },
    {
      "cell_type": "code",
      "execution_count": null,
      "metadata": {
        "colab": {
          "base_uri": "https://localhost:8080/"
        },
        "id": "ZZQug8KBW3sL",
        "outputId": "13719df0-b021-4040-caa8-ce64f2357474"
      },
      "outputs": [
        {
          "output_type": "stream",
          "name": "stdout",
          "text": [
            "🎲 Welcome to the Number Guessing Game!\n",
            "I'm thinking of a number between 1 and 100.\n",
            "You have 10 attempts to guess it.\n",
            "\n",
            "Attempt 1: Enter your guess: 75\n",
            "🔽 Too high. Try a lower number.\n",
            "Attempt 2: Enter your guess: 89\n",
            "🔽 Too high. Try a lower number.\n",
            "Attempt 3: Enter your guess: 21\n",
            "🔼 Too low. Try a higher number.\n",
            "Attempt 4: Enter your guess: 84\n",
            "🔽 Too high. Try a lower number.\n",
            "Attempt 5: Enter your guess: 42\n",
            "🔼 Too low. Try a higher number.\n",
            "Attempt 6: Enter your guess: 11\n",
            "🔼 Too low. Try a higher number.\n",
            "Attempt 7: Enter your guess: 90\n",
            "🔽 Too high. Try a lower number.\n",
            "Attempt 8: Enter your guess: 100\n",
            "🔽 Too high. Try a lower number.\n",
            "Attempt 9: Enter your guess: 30\n",
            "🔼 Too low. Try a higher number.\n",
            "Attempt 10: Enter your guess: 100\n",
            "🔽 Too high. Try a lower number.\n",
            "❌ You've run out of attempts! The number was 58.\n"
          ]
        }
      ],
      "source": [
        "import random\n",
        "\n",
        "def number_guessing_game():\n",
        "    print(\"🎲 Welcome to the Number Guessing Game!\")\n",
        "    lower_bound = 1\n",
        "    upper_bound = 100\n",
        "    max_attempts = 10\n",
        "\n",
        "    # Generate a random number\n",
        "    secret_number = random.randint(lower_bound, upper_bound)\n",
        "    attempts = 0\n",
        "\n",
        "    print(f\"I'm thinking of a number between {lower_bound} and {upper_bound}.\")\n",
        "    print(f\"You have {max_attempts} attempts to guess it.\\n\")\n",
        "\n",
        "    while attempts < max_attempts:\n",
        "        try:\n",
        "            guess = int(input(f\"Attempt {attempts + 1}: Enter your guess: \"))\n",
        "        except ValueError:\n",
        "            print(\"Please enter a valid number.\")\n",
        "            continue\n",
        "\n",
        "        attempts += 1\n",
        "\n",
        "        if guess == secret_number:\n",
        "            print(f\"🎉 Congratulations! You guessed the number in {attempts} attempts.\")\n",
        "            break\n",
        "        elif guess < secret_number:\n",
        "            print(\"🔼 Too low. Try a higher number.\")\n",
        "        else:\n",
        "            print(\"🔽 Too high. Try a lower number.\")\n",
        "\n",
        "    else:\n",
        "        print(f\"❌ You've run out of attempts! The number was {secret_number}.\")\n",
        "\n",
        "if __name__ == \"__main__\":\n",
        "    number_guessing_game()\n"
      ]
    },
    {
      "cell_type": "code",
      "source": [],
      "metadata": {
        "id": "Qt3Dl2m3XD30"
      },
      "execution_count": null,
      "outputs": []
    }
  ]
}